{
 "cells": [
  {
   "cell_type": "code",
   "execution_count": 2,
   "metadata": {},
   "outputs": [],
   "source": [
    "# import libraries\n",
    "import pandas as pd\n",
    "\n",
    "\n"
   ]
  },
  {
   "cell_type": "code",
   "execution_count": 3,
   "metadata": {},
   "outputs": [],
   "source": [
    "# Read CSV input\n",
    "input_file_path = 'D:\\\\Projects\\\\Alaeddins_ML\\\\Dataset\\\\garmin_data_unprocessed.csv'\n",
    "outfile_path = 'D:\\\\Projects\\\\Alaeddins_ML\\\\Dataset\\\\garmin_data_processed.csv'\n",
    "df = pd.read_csv(input_file_path)\n",
    "\n"
   ]
  },
  {
   "cell_type": "code",
   "execution_count": 4,
   "metadata": {},
   "outputs": [],
   "source": [
    "# Loop through each column in the DataFrame\n",
    "for col in df.columns:\n",
    "    # Loop through each row in the column\n",
    "    for i in range(len(df[col])):\n",
    "        # If the row is empty\n",
    "        if pd.isna(df[col][i]):\n",
    "            # Find the nearest non-empty value in the same column\n",
    "            j = i - 1\n",
    "            while pd.isna(df[col][j]):\n",
    "                j -= 1\n",
    "            k = i + 1\n",
    "            while pd.isna(df[col][k]):\n",
    "                k += 1\n",
    "\n",
    "            # Replace the empty value with the nearest non-empty value\n",
    "            if abs(i - j) <= abs(k - i):\n",
    "                df[col][i] = df[col][j]\n",
    "            else:\n",
    "                df[col][i] = df[col][k]\n"
   ]
  },
  {
   "cell_type": "code",
   "execution_count": 5,
   "metadata": {},
   "outputs": [],
   "source": [
    "\n",
    "# Save the updated DataFrame to a new CSV file\n",
    "df.to_csv(outfile_path, index=False)"
   ]
  },
  {
   "cell_type": "code",
   "execution_count": 6,
   "metadata": {},
   "outputs": [],
   "source": [
    "# read the processed data\n",
    "processed_data = pd.read_csv(outfile_path, sep=';')"
   ]
  },
  {
   "cell_type": "code",
   "execution_count": 7,
   "metadata": {},
   "outputs": [
    {
     "data": {
      "text/html": [
       "<div>\n",
       "<style scoped>\n",
       "    .dataframe tbody tr th:only-of-type {\n",
       "        vertical-align: middle;\n",
       "    }\n",
       "\n",
       "    .dataframe tbody tr th {\n",
       "        vertical-align: top;\n",
       "    }\n",
       "\n",
       "    .dataframe thead th {\n",
       "        text-align: right;\n",
       "    }\n",
       "</style>\n",
       "<table border=\"1\" class=\"dataframe\">\n",
       "  <thead>\n",
       "    <tr style=\"text-align: right;\">\n",
       "      <th></th>\n",
       "      <th>pId,condition,timestamp,HR,HRV</th>\n",
       "    </tr>\n",
       "  </thead>\n",
       "  <tbody>\n",
       "    <tr>\n",
       "      <th>count</th>\n",
       "      <td>4458</td>\n",
       "    </tr>\n",
       "    <tr>\n",
       "      <th>unique</th>\n",
       "      <td>3886</td>\n",
       "    </tr>\n",
       "    <tr>\n",
       "      <th>top</th>\n",
       "      <td>p003_s4,2,2023-04-13T19:07:35.714+12:00,76,</td>\n",
       "    </tr>\n",
       "    <tr>\n",
       "      <th>freq</th>\n",
       "      <td>2</td>\n",
       "    </tr>\n",
       "  </tbody>\n",
       "</table>\n",
       "</div>"
      ],
      "text/plain": [
       "                     pId,condition,timestamp,HR,HRV\n",
       "count                                          4458\n",
       "unique                                         3886\n",
       "top     p003_s4,2,2023-04-13T19:07:35.714+12:00,76,\n",
       "freq                                              2"
      ]
     },
     "execution_count": 7,
     "metadata": {},
     "output_type": "execute_result"
    }
   ],
   "source": [
    "processed_data.describe()"
   ]
  }
 ],
 "metadata": {
  "kernelspec": {
   "display_name": "kg_anal",
   "language": "python",
   "name": "python3"
  },
  "language_info": {
   "codemirror_mode": {
    "name": "ipython",
    "version": 3
   },
   "file_extension": ".py",
   "mimetype": "text/x-python",
   "name": "python",
   "nbconvert_exporter": "python",
   "pygments_lexer": "ipython3",
   "version": "3.9.16"
  },
  "orig_nbformat": 4
 },
 "nbformat": 4,
 "nbformat_minor": 2
}
